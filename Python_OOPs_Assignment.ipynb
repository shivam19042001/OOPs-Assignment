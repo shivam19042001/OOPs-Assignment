{
  "nbformat": 4,
  "nbformat_minor": 0,
  "metadata": {
    "colab": {
      "provenance": []
    },
    "kernelspec": {
      "name": "python3",
      "display_name": "Python 3"
    },
    "language_info": {
      "name": "python"
    }
  },
  "cells": [
    {
      "cell_type": "code",
      "execution_count": null,
      "metadata": {
        "id": "TjVbXCC-uLk6"
      },
      "outputs": [],
      "source": [
        "#1 What is Object-Oriented Programming (OOP)?\n",
        "\n",
        "\"\"\"\n",
        "Object-Oriented Programming (OOP) is a programming paradigm based on the concept of \"objects,\"\n",
        " which contain data (attributes or properties) and methods (functions or behaviors).\n",
        " OOP is used to structure code in a way that models real-world entities and interactions,\n",
        "  making it modular, reusable, and scalable.\n",
        "\"\"\""
      ]
    },
    {
      "cell_type": "code",
      "source": [
        "#2  What is a class in OOP?\n",
        "\"\"\"\n",
        "A class serves as a foundational design for building objects. It specifies the characteristics (attributes)\n",
        " and actions (methods) that the objects derived from it will possess.\n",
        " Essentially, it acts as a mold from which multiple objects with similar properties and behaviors can be created.\n",
        "\"\"\"\n"
      ],
      "metadata": {
        "id": "4WRn7JDcuYIy"
      },
      "execution_count": null,
      "outputs": []
    },
    {
      "cell_type": "code",
      "source": [
        "#3 What is an object in OOP?\n",
        "\"\"\"\n",
        "An object in Object-Oriented Programming (OOP) is an instance of a class.\n",
        " It is a real-world entity that has specific values for attributes (data) and\n",
        "  can perform actions using methods (functions).\n",
        "\"\"\""
      ],
      "metadata": {
        "id": "2jZX7GiiuYS7"
      },
      "execution_count": null,
      "outputs": []
    },
    {
      "cell_type": "code",
      "source": [
        "#4  What is the difference between abstraction and encapsulation?\n",
        "\"\"\"\n",
        "-Abstraction simplifies a system by hiding unnecessary details and exposing only the important features.\n",
        " It allows users to interact with an object without needing to understand its internal workings.\n",
        "-Encapsulation groups related data and methods into a single unit (class) while restricting direct access to certain parts to protect the integrity of the data.\n",
        "\"\"\""
      ],
      "metadata": {
        "id": "84whRy3huYaF"
      },
      "execution_count": null,
      "outputs": []
    },
    {
      "cell_type": "code",
      "source": [
        "#5 What are dunder methods in Python?\n",
        "\"\"\"\n",
        " Dunder methods (short for \"double underscore\" methods) are special methods in Python\n",
        " that have double underscores (__) at the beginning and end of their names.\n",
        " They allow you to customize the behavior of objects, such as\n",
        " initialization, representation, comparison, and arithmetic operations.\n",
        "\"\"\""
      ],
      "metadata": {
        "id": "jIVxgosUuYey"
      },
      "execution_count": null,
      "outputs": []
    },
    {
      "cell_type": "code",
      "source": [
        "#6 Explain the concept of inheritance in OOP\n",
        "\"\"\"\n",
        "Inheritance is a feature in Object-Oriented Programming where a child class acquires\n",
        " the attributes and methods of a parent class. This helps in code reuse and establishes\n",
        "  a relationship between classes, allowing the child class to extend or modify the functionality of the parent class.\n",
        "\"\"\""
      ],
      "metadata": {
        "id": "iYmTWRpcuZYa"
      },
      "execution_count": null,
      "outputs": []
    },
    {
      "cell_type": "code",
      "source": [
        "#7 What is polymorphism in OOP?\n",
        "\"\"\"\n",
        "Polymorphism is the ability of different classes to use the same method name but execute different behaviors based on their implementation.\n",
        " It allows a single interface to be used for different data types, making code more flexible and scalable.\n",
        "\"\"\""
      ],
      "metadata": {
        "id": "dCBQ8L_tuZbW"
      },
      "execution_count": null,
      "outputs": []
    },
    {
      "cell_type": "code",
      "source": [
        "#8 How is encapsulation achieved in Python?\n",
        "\"\"\"\n",
        "Encapsulation in Python is implemented using protected and private variables\n",
        "A protected variable is indicated by a single underscore (_), suggesting that\n",
        "it should not be accessed directly. A private variable is marked with double underscores (__),\n",
        "restricting direct access from outside the class.\n",
        "\"\"\""
      ],
      "metadata": {
        "id": "nDhs_8F_uZd5"
      },
      "execution_count": null,
      "outputs": []
    },
    {
      "cell_type": "code",
      "source": [
        "#9 What is a constructor in Python?\n",
        "\"\"\"\n",
        "A constructor in Python is a special method called __init__,\n",
        "which automatically executes when a new object of a class is created.\n",
        "It is used to initialize the attributes of the object.\n",
        "\"\"\""
      ],
      "metadata": {
        "id": "Yy89zb1luZg0"
      },
      "execution_count": null,
      "outputs": []
    },
    {
      "cell_type": "code",
      "source": [
        "#10 What are class and static methods in Python?\n",
        "\"\"\"\n",
        "Python provides two types of methods that belong to a class rather than an instance:\n",
        "\n",
        "1. Class Method (@classmethod)\n",
        "-A class method is bound to the class, not an instance. It can modify class-level attributes and uses cls as the first parameter instead of self.-\n",
        "\n",
        "2. Static Method (@staticmethod)\n",
        "-A static method does not use self or cls. It behaves like a normal function inside a class and is used for utility functions.\n",
        "\"\"\""
      ],
      "metadata": {
        "id": "oOLGRBOjuZjp"
      },
      "execution_count": null,
      "outputs": []
    },
    {
      "cell_type": "code",
      "source": [
        "#11 What is method overloading in Python?\n",
        "\"\"\"\n",
        "Method overloading allows multiple methods in the same class to have the same name but different numbers of parameters or different types of parameters.\n",
        "\n",
        "However, Python does not support traditional method overloading like other languages (e.g., Java, C++).\n",
        " Instead, it can be achieved using default arguments or *args/**kwargs to handle different cases.\n",
        "\"\"\""
      ],
      "metadata": {
        "id": "CR57xVt2uZmU"
      },
      "execution_count": null,
      "outputs": []
    },
    {
      "cell_type": "code",
      "source": [
        "#12 What is method overriding in OOP?\n",
        "\"\"\"\n",
        "Method overriding is a feature in Object-Oriented Programming where a child class\n",
        "provides a specific implementation of a method that is already defined in its parent class.\n",
        "This allows the child class to modify or extend the behavior of the inherited method while keeping the same method name and parameters.\n",
        "\"\"\""
      ],
      "metadata": {
        "id": "R_hZbMHquZpP"
      },
      "execution_count": null,
      "outputs": []
    },
    {
      "cell_type": "code",
      "source": [
        "#13 What is a property decorator in Python?\n",
        "\"\"\"\n",
        "The @property decorator in Python is used to define getter methods in a class.\n",
        "It allows a method to be accessed like an attribute, making the code more readable and encapsulated.\n",
        "\"\"\""
      ],
      "metadata": {
        "id": "4I6UZJF8uZsG"
      },
      "execution_count": null,
      "outputs": []
    },
    {
      "cell_type": "code",
      "source": [
        "#14 Why is polymorphism important in OOP?\n",
        "\"\"\"\n",
        "Polymorphism is a key concept in Object-Oriented Programming (OOP) that allows\n",
        "objects of different classes to be treated as objects of a common superclass.\n",
        "This improves code flexibility, reusability, and maintainability.\n",
        "\"\"\""
      ],
      "metadata": {
        "id": "qImId75-uZvD"
      },
      "execution_count": null,
      "outputs": []
    },
    {
      "cell_type": "code",
      "source": [
        "#15 What is an abstract class in Python?\n",
        "\"\"\"\n",
        "An abstract class is a class that cannot be directly instantiated and may include one or more abstract methods.\n",
        "Abstract methods are defined using the @abstractmethod decorator and must be implemented in any subclass that inherits from the abstract class.\n",
        "\"\"\""
      ],
      "metadata": {
        "id": "8XCPUFzHuZyA"
      },
      "execution_count": null,
      "outputs": []
    },
    {
      "cell_type": "code",
      "source": [
        "#16 What are the advantages of OOP?\n",
        "\"\"\"\n",
        "Advantages of Object-Oriented Programming (OOP)\n",
        "\n",
        "1️ Code Reusability (Inheritance)\n",
        "   - Allows code to be reused through inheritance, reducing duplication.\n",
        "   - Example: A parent class `Vehicle` can be inherited by `Car` and `Bike` instead of rewriting common properties.\n",
        "\n",
        "2️ Encapsulation (Data Security)\n",
        "   - Protects data by restricting direct access and only allowing modifications through methods.\n",
        "   - Example: A bank account class hides the balance variable and provides controlled access via deposit/withdraw methods.\n",
        "\n",
        "3️ Abstraction (Hides Complexity)\n",
        "   - Simplifies code by exposing only essential features while hiding the internal workings.\n",
        "   - Example: A Car object provides a `start()` method, but the user doesn’t need to know how the engine works internally.\n",
        "\n",
        "4️ Polymorphism (Flexibility & Extensibility)\n",
        "   - Allows the same interface to be used for different types of objects.\n",
        "   - Example: A `make_sound()` method can be used for Dog, Cat, and Cow, but each will have its own implementation.\n",
        "\n",
        "5️ Scalability & Maintainability\n",
        "   - OOP makes it easier to add new features or modify existing code without affecting other parts.\n",
        "   - Example: Adding a new vehicle type (`Truck`) to a `Vehicle` class without modifying existing `Car` or `Bike` classes.\n",
        "\n",
        "6️ Improved Code Organization & Readability\n",
        "   - Groups related data and methods into objects, making code more structured and easier to understand.\n",
        "   - Example: Instead of handling multiple variables (`name`, `age`, `salary`), an `Employee` class encapsulates all related data.\n",
        "\n",
        "7️ Real-World Modeling\n",
        "   - OOP closely mirrors real-world objects, making it intuitive for designing complex applications.\n",
        "   - Example: A Shopping Cart system with `Product`, `Customer`, and `Order` classes.\n",
        "\n",
        "8️ Supports Large-Scale Development\n",
        "   - OOP is ideal for large applications like banking systems, e-commerce platforms, and game development.\n",
        "\n",
        "\"\"\"\n"
      ],
      "metadata": {
        "id": "eo8EljmWuZ0k"
      },
      "execution_count": null,
      "outputs": []
    },
    {
      "cell_type": "code",
      "source": [
        "#17 What is the difference between a class variable and an instance variable?\n",
        "\"\"\"\n",
        "Difference Between Class Variable and Instance Variable\n",
        "\n",
        "1️ Class Variable:\n",
        "   - Defined inside the class but outside any method.\n",
        "   - Shared among all instances of the class.\n",
        "   - Changing its value affects all instances.\n",
        "   - Example:\n",
        "     ```\n",
        "     class Car:\n",
        "         wheels = 4  # Class variable\n",
        "\n",
        "     car1 = Car()\n",
        "     car2 = Car()\n",
        "     print(car1.wheels)  # Output: 4\n",
        "     print(car2.wheels)  # Output: 4\n",
        "\n",
        "     Car.wheels = 6  # Modifying class variable\n",
        "     print(car1.wheels)  # Output: 6\n",
        "     print(car2.wheels)  # Output: 6\n",
        "     ```\n",
        "\n",
        "2️ Instance Variable:\n",
        "   - Defined inside the constructor (`__init__` method) using `self`.\n",
        "   - Unique to each object (instance).\n",
        "   - Changing its value does not affect other instances.\n",
        "   - Example:\n",
        "     ```\n",
        "     class Car:\n",
        "         def __init__(self, color):\n",
        "             self.color = color  # Instance variable\n",
        "\n",
        "     car1 = Car(\"Red\")\n",
        "     car2 = Car(\"Blue\")\n",
        "     print(car1.color)  # Output: Red\n",
        "     print(car2.color)  # Output: Blue\n",
        "\n",
        "     car1.color = \"Green\"  # Modifying instance variable\n",
        "     print(car1.color)  # Output: Green\n",
        "     print(car2.color)  # Output: Blue\n",
        "     ```\n",
        "\n",
        "\"\"\"\n"
      ],
      "metadata": {
        "id": "6c40YbxjuZ3e"
      },
      "execution_count": null,
      "outputs": []
    },
    {
      "cell_type": "code",
      "source": [
        "#18  What is multiple inheritance in Python?\n",
        "\"\"\"\n",
        " Multiple inheritance allows a class to inherit from more than one parent class.\n",
        " The child class inherits attributes and methods from all parent classes.\n",
        "\"\"\""
      ],
      "metadata": {
        "id": "M862kevXuZ6U"
      },
      "execution_count": null,
      "outputs": []
    },
    {
      "cell_type": "code",
      "source": [
        "#19 Explain the purpose of ‘’__str__’ and ‘__repr__’ ‘ methods in Python.\n",
        "\"\"\"\n",
        "__str__: Returns a user-friendly string representation of an object, typically used when calling print(). It is meant to be easily readable.\n",
        "__repr__: Returns a detailed and unambiguous string representation of an object, mainly for debugging and development purposes.\n",
        "          It should ideally provide enough information to recreate the object.\n",
        "\"\"\""
      ],
      "metadata": {
        "id": "B88REwJouZ_i"
      },
      "execution_count": null,
      "outputs": []
    },
    {
      "cell_type": "code",
      "source": [
        "#20 What is the significance of the ‘super()’ function in Python?\n",
        "\"\"\"\n",
        "The super() function allows a child class to access methods or the constructor of its parent class.\n",
        " It helps in maintaining the inheritance hierarchy by ensuring that the parent class is properly initialized and its methods are executed when needed.\n",
        "\"\"\""
      ],
      "metadata": {
        "id": "X4oGkATLuaCU"
      },
      "execution_count": null,
      "outputs": []
    },
    {
      "cell_type": "code",
      "source": [
        "#21 What is the significance of the __del__ method in Python?\n",
        "\"\"\"\n",
        "The __del__ method is a special function in Python that runs when an object is about to be deleted.\n",
        "It is typically used for cleaning up resources, such as closing files or releasing memory.\n",
        "However, using __del__ is generally discouraged because it can cause unexpected behavior due to Python’s automatic memory management and reference counting.\n",
        "\"\"\""
      ],
      "metadata": {
        "id": "uip8ewh_uaFD"
      },
      "execution_count": null,
      "outputs": []
    },
    {
      "cell_type": "code",
      "source": [
        "#22 What is the difference between @staticmethod and @classmethod in Python?\n",
        "\"\"\"\n",
        "@staticmethod: Defines a method that does not depend on the instance (self) or the class (cls).\n",
        " It behaves like a regular function but is placed inside a class for better organization.\n",
        "@classmethod: Defines a method that receives the class itself (cls) as the first argument.\n",
        " It can modify class-level attributes but cannot interact with instance-specific data.\n",
        "\"\"\""
      ],
      "metadata": {
        "id": "XF8-bLK-uaH2"
      },
      "execution_count": null,
      "outputs": []
    },
    {
      "cell_type": "code",
      "source": [
        "#23 How does polymorphism work in Python with inheritance?\n",
        "\"\"\"\n",
        "Polymorphism enables multiple classes to define methods with the same name but with different implementations.\n",
        " When used with inheritance, a subclass can override a method from its parent class, allowing objects of different classes to behave uniquely while using the same method name.\n",
        "\"\"\""
      ],
      "metadata": {
        "id": "ENYkUh4yuaKf"
      },
      "execution_count": null,
      "outputs": []
    },
    {
      "cell_type": "code",
      "source": [
        "#24 What is method chaining in Python OOP?\n",
        "\"\"\"\n",
        "Method chaining is a technique where multiple methods are called sequentially on the same object in a single line.\n",
        "Each method returns the object itself (self), allowing multiple operations to be performed in a compact and readable way.\n",
        "\"\"\""
      ],
      "metadata": {
        "id": "EnMVEf7fuaNL"
      },
      "execution_count": null,
      "outputs": []
    },
    {
      "cell_type": "code",
      "source": [
        "#25 What is the purpose of the __call__ method in Python?\n",
        "\"\"\"\n",
        "The __call__ method in Python allows an object to be called like a function.\n",
        "When a class defines __call__, its instances can be used as if they were functions, enabling custom behavior when called.\n",
        "\"\"\""
      ],
      "metadata": {
        "id": "oPH4YAApuaQD"
      },
      "execution_count": null,
      "outputs": []
    },
    {
      "cell_type": "code",
      "source": [
        "#1 Create a parent class Animal with a method speak() that prints a generic message. Create a child class Dog that overrides the speak() method to print \"Bark!\".\n",
        "\n",
        "\n",
        "class Animal:\n",
        "    def speak(self):\n",
        "        print(\"This animal makes a sound.\")\n",
        "\n",
        "\n",
        "class Dog(Animal):\n",
        "    def speak(self):\n",
        "        print(\"Bark!\")\n",
        "\n",
        "\n",
        "animal = Animal()\n",
        "animal.speak()\n",
        "\n",
        "dog = Dog()\n",
        "dog.speak()\n"
      ],
      "metadata": {
        "colab": {
          "base_uri": "https://localhost:8080/"
        },
        "id": "I8953AI8uaSY",
        "outputId": "8abde82f-040c-488b-c72e-85896fb8352f"
      },
      "execution_count": 23,
      "outputs": [
        {
          "output_type": "stream",
          "name": "stdout",
          "text": [
            "This animal makes a sound.\n",
            "Bark!\n"
          ]
        }
      ]
    },
    {
      "cell_type": "code",
      "source": [
        "#2 Write a program to create an abstract class Shape with a method area(). Derive classes Circle and Rectangle from it and implement the area() method in both.\n",
        "\n",
        "from abc import ABC, abstractmethod\n",
        "\n",
        "\n",
        "class Shape(ABC):\n",
        "    @abstractmethod\n",
        "    def area(self):\n",
        "        pass\n",
        "\n",
        "\n",
        "class Circle(Shape):\n",
        "    def __init__(self, radius):\n",
        "        self.radius = radius\n",
        "\n",
        "    def area(self):\n",
        "        return 3.14 * self.radius * self.radius\n",
        "\n",
        "\n",
        "class Rectangle(Shape):\n",
        "    def __init__(self, length, width):\n",
        "        self.length = length\n",
        "        self.width = width\n",
        "\n",
        "    def area(self):\n",
        "        return self.length * self.width\n",
        "\n",
        "\n",
        "circle = Circle(5)\n",
        "rectangle = Rectangle(4, 6)\n",
        "\n",
        "print(\"Circle Area:\", circle.area())\n",
        "print(\"Rectangle Area:\", rectangle.area())\n"
      ],
      "metadata": {
        "colab": {
          "base_uri": "https://localhost:8080/"
        },
        "id": "nhUxssLcuaU8",
        "outputId": "412439ef-16e6-4ca0-9d29-bd8b8a9d8e44"
      },
      "execution_count": 24,
      "outputs": [
        {
          "output_type": "stream",
          "name": "stdout",
          "text": [
            "Circle Area: 78.5\n",
            "Rectangle Area: 24\n"
          ]
        }
      ]
    },
    {
      "cell_type": "code",
      "source": [
        "#3 Implement a multi-level inheritance scenario where a class Vehicle has an attribute type. Derive a class Car and further derive a class ElectricCar that adds a battery attribute.\n",
        "\n",
        "\n",
        "class Vehicle:\n",
        "    def __init__(self, vehicle_type):\n",
        "        self.vehicle_type = vehicle_type\n",
        "\n",
        "    def show_type(self):\n",
        "        print(f\"Vehicle Type: {self.vehicle_type}\")\n",
        "\n",
        "\n",
        "class Car(Vehicle):\n",
        "    def __init__(self, brand, model):\n",
        "        super().__init__(\"Car\")\n",
        "        self.brand = brand\n",
        "        self.model = model\n",
        "\n",
        "    def show_details(self):\n",
        "        print(f\"Car Brand: {self.brand}, Model: {self.model}\")\n",
        "\n",
        "\n",
        "class ElectricCar(Car):\n",
        "    def __init__(self, brand, model, battery_capacity):\n",
        "        super().__init__(brand, model)\n",
        "        self.battery_capacity = battery_capacity\n",
        "\n",
        "    def show_battery(self):\n",
        "        print(f\"Battery Capacity: {self.battery_capacity} kWh\")\n",
        "\n",
        "\n",
        "tesla = ElectricCar(\"Tesla\", \"Model S\", 100)\n",
        "\n",
        "\n",
        "tesla.show_type()\n",
        "tesla.show_details()\n",
        "tesla.show_battery()\n"
      ],
      "metadata": {
        "colab": {
          "base_uri": "https://localhost:8080/"
        },
        "id": "2mbJA4I0uaYB",
        "outputId": "050b95da-7a45-416d-e1bc-6d64afc5a7ea"
      },
      "execution_count": 25,
      "outputs": [
        {
          "output_type": "stream",
          "name": "stdout",
          "text": [
            "Vehicle Type: Car\n",
            "Car Brand: Tesla, Model: Model S\n",
            "Battery Capacity: 100 kWh\n"
          ]
        }
      ]
    },
    {
      "cell_type": "code",
      "source": [
        "#4 Demonstrate polymorphism by creating a base class Bird with a method fly(). Create two derived classes Sparrow and Penguin that override the fly() method.\n",
        "\n",
        "\n",
        "class Bird:\n",
        "    def fly(self):\n",
        "        print(\"Some birds can fly.\")\n",
        "\n",
        "\n",
        "class Sparrow(Bird):\n",
        "    def fly(self):\n",
        "        print(\"Sparrow flies high in the sky!\")\n",
        "\n",
        "\n",
        "class Penguin(Bird):\n",
        "    def fly(self):\n",
        "        print(\"Penguins cannot fly, they swim!\")\n",
        "\n",
        "\n",
        "def show_flight_ability(bird):\n",
        "    bird.fly()\n",
        "\n",
        "\n",
        "sparrow = Sparrow()\n",
        "penguin = Penguin()\n",
        "\n",
        "\n",
        "show_flight_ability(sparrow)\n",
        "show_flight_ability(penguin)\n"
      ],
      "metadata": {
        "colab": {
          "base_uri": "https://localhost:8080/"
        },
        "id": "lFQre0GouxwI",
        "outputId": "6adbf34b-10d2-45b6-baf2-a064e99414f4"
      },
      "execution_count": 26,
      "outputs": [
        {
          "output_type": "stream",
          "name": "stdout",
          "text": [
            "Sparrow flies high in the sky!\n",
            "Penguins cannot fly, they swim!\n"
          ]
        }
      ]
    },
    {
      "cell_type": "code",
      "source": [
        "#5 Write a program to demonstrate encapsulation by creating a class BankAccount with private attributes balance and methods to deposit, withdraw, and check balance.\n",
        "\n",
        "class BankAccount:\n",
        "    def __init__(self, initial_balance):\n",
        "        self.__balance = initial_balance\n",
        "\n",
        "    def deposit(self, amount):\n",
        "        if amount > 0:\n",
        "            self.__balance += amount\n",
        "            print(f\"Deposited: ${amount}\")\n",
        "        else:\n",
        "            print(\"Deposit amount must be positive.\")\n",
        "\n",
        "    def withdraw(self, amount):\n",
        "        if 0 < amount <= self.__balance:\n",
        "            self.__balance -= amount\n",
        "            print(f\"Withdrawn: ${amount}\")\n",
        "        else:\n",
        "            print(\"Insufficient balance or invalid amount.\")\n",
        "\n",
        "    def check_balance(self):\n",
        "        print(f\"Current Balance: ${self.__balance}\")\n",
        "\n",
        "account = BankAccount(1000)\n",
        "\n",
        "account.deposit(500)\n",
        "account.withdraw(300)\n",
        "account.check_balance()\n",
        "\n",
        "\n",
        "print(account._BankAccount__balance)\n"
      ],
      "metadata": {
        "colab": {
          "base_uri": "https://localhost:8080/"
        },
        "id": "QZowKTO7ux3h",
        "outputId": "335da29e-5002-4bfc-a494-1ba40abe6825"
      },
      "execution_count": 27,
      "outputs": [
        {
          "output_type": "stream",
          "name": "stdout",
          "text": [
            "Deposited: $500\n",
            "Withdrawn: $300\n",
            "Current Balance: $1200\n",
            "1200\n"
          ]
        }
      ]
    },
    {
      "cell_type": "code",
      "source": [
        "#6 Demonstrate runtime polymorphism using a method play() in a base class Instrument. Derive classes Guitar and Piano that implement their own version of play().\n",
        "\n",
        "\n",
        "class Instrument:\n",
        "    def play(self):\n",
        "        print(\"Playing an instrument.\")\n",
        "\n",
        "class Guitar(Instrument):\n",
        "    def play(self):\n",
        "        print(\"Strumming the guitar!\")\n",
        "\n",
        "class Piano(Instrument):\n",
        "    def play(self):\n",
        "        print(\"Playing the piano keys!\")\n",
        "\n",
        "def start_playing(instrument):\n",
        "    instrument.play()\n",
        "\n",
        "\n",
        "guitar = Guitar()\n",
        "piano = Piano()\n",
        "\n",
        "start_playing(guitar)\n",
        "start_playing(piano)\n"
      ],
      "metadata": {
        "colab": {
          "base_uri": "https://localhost:8080/"
        },
        "id": "ihragKSwux9_",
        "outputId": "afe6a78b-3502-4995-ab5b-a0ff7dc0e2d9"
      },
      "execution_count": 28,
      "outputs": [
        {
          "output_type": "stream",
          "name": "stdout",
          "text": [
            "Strumming the guitar!\n",
            "Playing the piano keys!\n"
          ]
        }
      ]
    },
    {
      "cell_type": "code",
      "source": [
        "#7  Create a class MathOperations with a class method add_numbers() to add two numbers and a static method subtract_numbers() to subtract two numbers.\n",
        "\n",
        "class MathOperations:\n",
        "\n",
        "    @classmethod\n",
        "    def add_numbers(cls, a, b):\n",
        "        return a + b\n",
        "\n",
        "\n",
        "    @staticmethod\n",
        "    def subtract_numbers(a, b):\n",
        "        return a - b\n",
        "\n",
        "\n",
        "sum_result = MathOperations.add_numbers(10, 5)\n",
        "print(\"Sum:\", sum_result)\n",
        "\n",
        "\n",
        "difference = MathOperations.subtract_numbers(10, 5)\n",
        "print(\"Difference:\", difference)\n"
      ],
      "metadata": {
        "colab": {
          "base_uri": "https://localhost:8080/"
        },
        "id": "O_7ttiOLuyDg",
        "outputId": "e70fa395-cc77-4167-ba83-efcc11c96255"
      },
      "execution_count": 29,
      "outputs": [
        {
          "output_type": "stream",
          "name": "stdout",
          "text": [
            "Sum: 15\n",
            "Difference: 5\n"
          ]
        }
      ]
    },
    {
      "cell_type": "code",
      "source": [
        "#8  Implement a class Person with a class method to count the total number of persons created.\n",
        "\n",
        "class Person:\n",
        "    count = 0\n",
        "\n",
        "    def __init__(self, name):\n",
        "        self.name = name\n",
        "        Person.count += 1\n",
        "\n",
        "    @classmethod\n",
        "    def get_total_persons(cls):\n",
        "        return cls.count\n",
        "\n",
        "\n",
        "p1 = Person(\"Alice\")\n",
        "p2 = Person(\"Bob\")\n",
        "p3 = Person(\"Charlie\")\n",
        "\n",
        "\n",
        "print(\"Total Persons Created:\", Person.get_total_persons())\n"
      ],
      "metadata": {
        "colab": {
          "base_uri": "https://localhost:8080/"
        },
        "id": "f40EpMbTuyIy",
        "outputId": "84839174-18fd-4448-c2ef-7d496acefb4e"
      },
      "execution_count": 30,
      "outputs": [
        {
          "output_type": "stream",
          "name": "stdout",
          "text": [
            "Total Persons Created: 3\n"
          ]
        }
      ]
    },
    {
      "cell_type": "code",
      "source": [
        "#9 Write a class Fraction with attributes numerator and denominator. Override the str method to display the fraction as \"numerator/denominator\".\n",
        "\n",
        "class Fraction:\n",
        "    def __init__(self, numerator, denominator):\n",
        "        self.numerator = numerator\n",
        "        self.denominator = denominator\n",
        "\n",
        "    def __str__(self):\n",
        "        return f\"{self.numerator}/{self.denominator}\"\n",
        "\n",
        "frac1 = Fraction(3, 4)\n",
        "frac2 = Fraction(5, 8)\n",
        "\n",
        "print(frac1)\n",
        "print(frac2)\n"
      ],
      "metadata": {
        "colab": {
          "base_uri": "https://localhost:8080/"
        },
        "id": "ex_7V58fuyNH",
        "outputId": "de4ef645-27ff-475f-8abf-96ca56982bd2"
      },
      "execution_count": 31,
      "outputs": [
        {
          "output_type": "stream",
          "name": "stdout",
          "text": [
            "3/4\n",
            "5/8\n"
          ]
        }
      ]
    },
    {
      "cell_type": "code",
      "source": [
        "#10  Demonstrate operator overloading by creating a class Vector and overriding the add method to add two vectors.\n",
        "\n",
        "class Vector:\n",
        "    def __init__(self, x, y):\n",
        "        self.x = x\n",
        "        self.y = y\n",
        "\n",
        "    def __add__(self, other):\n",
        "        return Vector(self.x + other.x, self.y + other.y)\n",
        "\n",
        "    def __str__(self):\n",
        "        return f\"({self.x}, {self.y})\"\n",
        "\n",
        "v1 = Vector(2, 3)\n",
        "v2 = Vector(4, 5)\n",
        "\n",
        "v3 = v1 + v2\n",
        "\n",
        "print(\"Vector 1:\", v1)\n",
        "print(\"Vector 2:\", v2)\n",
        "print(\"Sum of Vectors:\", v3)\n"
      ],
      "metadata": {
        "colab": {
          "base_uri": "https://localhost:8080/"
        },
        "id": "ncbEb_2cuySK",
        "outputId": "b306f9a0-e592-423c-87be-34614a28a9d0"
      },
      "execution_count": 32,
      "outputs": [
        {
          "output_type": "stream",
          "name": "stdout",
          "text": [
            "Vector 1: (2, 3)\n",
            "Vector 2: (4, 5)\n",
            "Sum of Vectors: (6, 8)\n"
          ]
        }
      ]
    },
    {
      "cell_type": "code",
      "source": [
        "#11 Create a class Person with attributes name and age. Add a method greet() that prints \"Hello, my name is {name} and I am {age} years old.\"\n",
        "\n",
        "class Person:\n",
        "    def __init__(self, name, age):\n",
        "        self.name = name\n",
        "        self.age = age\n",
        "\n",
        "    def greet(self):\n",
        "        print(f\"Hello, my name is {self.name} and I am {self.age} years old.\")\n",
        "\n",
        "\n",
        "p1 = Person(\"Alice\", 25)\n",
        "p2 = Person(\"Bob\", 30)\n",
        "\n",
        "p1.greet()\n",
        "p2.greet()\n"
      ],
      "metadata": {
        "colab": {
          "base_uri": "https://localhost:8080/"
        },
        "id": "nu1nFCaZuyWd",
        "outputId": "f3f8b879-840f-463a-d258-38f0905c45cf"
      },
      "execution_count": 33,
      "outputs": [
        {
          "output_type": "stream",
          "name": "stdout",
          "text": [
            "Hello, my name is Alice and I am 25 years old.\n",
            "Hello, my name is Bob and I am 30 years old.\n"
          ]
        }
      ]
    },
    {
      "cell_type": "code",
      "source": [
        "#12  Implement a class Student with attributes name and grades. Create a method average_grade() to compute the average of the grades.\n",
        "\n",
        "class Student:\n",
        "    def __init__(self, name, grades):\n",
        "        self.name = name\n",
        "        self.grades = grades\n",
        "\n",
        "    def average_grade(self):\n",
        "        if self.grades:\n",
        "            return sum(self.grades) / len(self.grades)\n",
        "        return 0\n",
        "\n",
        "\n",
        "s1 = Student(\"Alice\", [85, 90, 78, 92])\n",
        "s2 = Student(\"Bob\", [88, 76, 95, 89])\n",
        "\n",
        "print(f\"{s1.name}'s Average Grade: {s1.average_grade():.2f}\")\n",
        "print(f\"{s2.name}'s Average Grade: {s2.average_grade():.2f}\")\n"
      ],
      "metadata": {
        "colab": {
          "base_uri": "https://localhost:8080/"
        },
        "id": "7ntXTYaCuya_",
        "outputId": "a753c175-b2db-4fb8-dd8d-36212073df51"
      },
      "execution_count": 34,
      "outputs": [
        {
          "output_type": "stream",
          "name": "stdout",
          "text": [
            "Alice's Average Grade: 86.25\n",
            "Bob's Average Grade: 87.00\n"
          ]
        }
      ]
    },
    {
      "cell_type": "code",
      "source": [
        "#13 Create a class Rectangle with methods set_dimensions() to set the dimensions and area() to calculate the area.\n",
        "\n",
        "class Rectangle:\n",
        "    def __init__(self):\n",
        "        self.length = 0\n",
        "        self.width = 0\n",
        "\n",
        "    def set_dimensions(self, length, width):\n",
        "        self.length = length\n",
        "        self.width = width\n",
        "\n",
        "    def area(self):\n",
        "        return self.length * self.width\n",
        "\n",
        "\n",
        "rect = Rectangle()\n",
        "\n",
        "\n",
        "rect.set_dimensions(10, 5)\n",
        "\n",
        "\n",
        "print(\"Area of Rectangle:\", rect.area())\n"
      ],
      "metadata": {
        "colab": {
          "base_uri": "https://localhost:8080/"
        },
        "id": "NWfnPM27uyet",
        "outputId": "835e3e92-f58b-4fee-e36d-e53c0215e287"
      },
      "execution_count": 35,
      "outputs": [
        {
          "output_type": "stream",
          "name": "stdout",
          "text": [
            "Area of Rectangle: 50\n"
          ]
        }
      ]
    },
    {
      "cell_type": "code",
      "source": [
        "#14  Create a class Employee with a method calculate_salary() that computes the salary based on hours worked and hourly rate. Create a derived class Manager that adds a bonus to the salary.\n",
        "\n",
        "class Employee:\n",
        "    def __init__(self, name, hours_worked, hourly_rate):\n",
        "        self.name = name\n",
        "        self.hours_worked = hours_worked\n",
        "        self.hourly_rate = hourly_rate\n",
        "\n",
        "    def calculate_salary(self):\n",
        "        return self.hours_worked * self.hourly_rate\n",
        "\n",
        "class Manager(Employee):\n",
        "    def __init__(self, name, hours_worked, hourly_rate, bonus):\n",
        "        super().__init__(name, hours_worked, hourly_rate)\n",
        "        self.bonus = bonus\n",
        "\n",
        "    def calculate_salary(self):\n",
        "        return super().calculate_salary() + self.bonus\n",
        "\n",
        "emp = Employee(\"Alice\", 40, 20)\n",
        "print(f\"{emp.name}'s Salary: ${emp.calculate_salary()}\")\n",
        "\n",
        "mgr = Manager(\"Bob\", 40, 30, 500)\n",
        "print(f\"{mgr.name}'s Salary: ${mgr.calculate_salary()}\")\n"
      ],
      "metadata": {
        "colab": {
          "base_uri": "https://localhost:8080/"
        },
        "id": "8B7BXafMuyjC",
        "outputId": "5672c0d2-e65b-4fcf-80a6-04aea17a6edb"
      },
      "execution_count": 36,
      "outputs": [
        {
          "output_type": "stream",
          "name": "stdout",
          "text": [
            "Alice's Salary: $800\n",
            "Bob's Salary: $1700\n"
          ]
        }
      ]
    },
    {
      "cell_type": "code",
      "source": [
        "#15  Create a class Product with attributes name, price, and quantity. Implement a method total_price() that calculates the total price of the product.\n",
        "\n",
        "class Product:\n",
        "    def __init__(self, name, price, quantity):\n",
        "        self.name = name\n",
        "        self.price = price\n",
        "        self.quantity = quantity\n",
        "\n",
        "    def total_price(self):\n",
        "        return self.price * self.quantity\n",
        "\n",
        "\n",
        "product1 = Product(\"Laptop\", 800, 2)\n",
        "product2 = Product(\"Headphones\", 50, 5)\n",
        "\n",
        "print(f\"Total price of {product1.name}: ${product1.total_price()}\")\n",
        "print(f\"Total price of {product2.name}: ${product2.total_price()}\")\n"
      ],
      "metadata": {
        "colab": {
          "base_uri": "https://localhost:8080/"
        },
        "id": "Lt2tTH5wuyma",
        "outputId": "836c73e2-f25c-4783-dfa9-228924816281"
      },
      "execution_count": 37,
      "outputs": [
        {
          "output_type": "stream",
          "name": "stdout",
          "text": [
            "Total price of Laptop: $1600\n",
            "Total price of Headphones: $250\n"
          ]
        }
      ]
    },
    {
      "cell_type": "code",
      "source": [
        "#16 Create a class Animal with an abstract method sound(). Create two derived classes Cow and Sheep that implement the sound() method.\n",
        "\n",
        "from abc import ABC, abstractmethod\n",
        "\n",
        "class Animal(ABC):\n",
        "    @abstractmethod\n",
        "    def sound(self):\n",
        "        pass\n",
        "\n",
        "class Cow(Animal):\n",
        "    def sound(self):\n",
        "        return \"Moo!\"\n",
        "\n",
        "class Sheep(Animal):\n",
        "    def sound(self):\n",
        "        return \"Baa!\"\n",
        "\n",
        "\n",
        "cow = Cow()\n",
        "sheep = Sheep()\n",
        "\n",
        "print(f\"Cow makes: {cow.sound()}\")\n",
        "print(f\"Sheep makes: {sheep.sound()}\")\n"
      ],
      "metadata": {
        "colab": {
          "base_uri": "https://localhost:8080/"
        },
        "id": "BDzIoVzFuyqx",
        "outputId": "c40224b9-721c-4d84-a89f-1177eee2ba2f"
      },
      "execution_count": 38,
      "outputs": [
        {
          "output_type": "stream",
          "name": "stdout",
          "text": [
            "Cow makes: Moo!\n",
            "Sheep makes: Baa!\n"
          ]
        }
      ]
    },
    {
      "cell_type": "code",
      "source": [
        "#17 Create a class Book with attributes title, author, and year_published. Add a method get_book_info() that returns a formatted string with the book's details.\n",
        "\n",
        "class Book:\n",
        "    def __init__(self, title, author, year_published):\n",
        "        self.title = title\n",
        "        self.author = author\n",
        "        self.year_published = year_published\n",
        "\n",
        "    def get_book_info(self):\n",
        "        return f\"'{self.title}' by {self.author}, published in {self.year_published}.\"\n",
        "\n",
        "book1 = Book(\"The Alchemist\", \"Paulo Coelho\", 1988)\n",
        "book2 = Book(\"To Kill a Mockingbird\", \"Harper Lee\", 1960)\n",
        "\n",
        "print(book1.get_book_info())\n",
        "print(book2.get_book_info())\n"
      ],
      "metadata": {
        "colab": {
          "base_uri": "https://localhost:8080/"
        },
        "id": "_H4_qQ8quyuw",
        "outputId": "debde927-e26e-4f50-b0c0-2e8e598ac814"
      },
      "execution_count": 39,
      "outputs": [
        {
          "output_type": "stream",
          "name": "stdout",
          "text": [
            "'The Alchemist' by Paulo Coelho, published in 1988.\n",
            "'To Kill a Mockingbird' by Harper Lee, published in 1960.\n"
          ]
        }
      ]
    },
    {
      "cell_type": "code",
      "source": [
        "#18 Create a class House with attributes address and price. Create a derived class Mansion that adds an attribute number_of_rooms.\n",
        "\n",
        "class House:\n",
        "    def __init__(self, address, price):\n",
        "        self.address = address\n",
        "        self.price = price\n",
        "\n",
        "    def get_details(self):\n",
        "        return f\"Address: {self.address}, Price: ${self.price}\"\n",
        "\n",
        "class Mansion(House):\n",
        "    def __init__(self, address, price, number_of_rooms):\n",
        "        super().__init__(address, price)\n",
        "        self.number_of_rooms = number_of_rooms\n",
        "\n",
        "    def get_details(self):\n",
        "        return f\"Address: {self.address}, Price: ${self.price}, Rooms: {self.number_of_rooms}\"\n",
        "\n",
        "house = House(\"123 Main St\", 250000)\n",
        "print(house.get_details())\n",
        "\n",
        "mansion = Mansion(\"456 Luxury Ave\", 5000000, 15)\n",
        "print(mansion.get_details())\n"
      ],
      "metadata": {
        "colab": {
          "base_uri": "https://localhost:8080/"
        },
        "id": "nfuT_pzfuy0T",
        "outputId": "0c50dbcc-5f1a-42af-82b6-f5adaf6db6ee"
      },
      "execution_count": 40,
      "outputs": [
        {
          "output_type": "stream",
          "name": "stdout",
          "text": [
            "Address: 123 Main St, Price: $250000\n",
            "Address: 456 Luxury Ave, Price: $5000000, Rooms: 15\n"
          ]
        }
      ]
    },
    {
      "cell_type": "code",
      "source": [],
      "metadata": {
        "id": "RY0-Dh3s63xI"
      },
      "execution_count": null,
      "outputs": []
    }
  ]
}